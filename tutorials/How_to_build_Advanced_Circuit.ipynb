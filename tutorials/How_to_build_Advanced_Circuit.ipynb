{
  "nbformat": 4,
  "nbformat_minor": 0,
  "metadata": {
    "colab": {
      "name": "How to build Advanced Circuit.ipynb",
      "provenance": [],
      "authorship_tag": "ABX9TyNndaBae93rcWXi5HUb5qPk",
      "include_colab_link": true
    },
    "kernelspec": {
      "name": "python3",
      "display_name": "Python 3"
    }
  },
  "cells": [
    {
      "cell_type": "markdown",
      "metadata": {
        "id": "view-in-github",
        "colab_type": "text"
      },
      "source": [
        "<a href=\"https://colab.research.google.com/github/olgOk/QCircuit/blob/master/tutorials/How_to_build_Advanced_Circuit.ipynb\" target=\"_parent\"><img src=\"https://colab.research.google.com/assets/colab-badge.svg\" alt=\"Open In Colab\"/></a>"
      ]
    },
    {
      "cell_type": "markdown",
      "metadata": {
        "colab_type": "text",
        "id": "MX4MOzref-rI"
      },
      "source": [
        "# Advanced Curcuit\n",
        "\n",
        "by Olga Okrut"
      ]
    },
    {
      "cell_type": "markdown",
      "metadata": {
        "id": "OXeA3xgJdClf",
        "colab_type": "text"
      },
      "source": [
        "Install frameworks, and import libraries"
      ]
    },
    {
      "cell_type": "code",
      "metadata": {
        "id": "XmzQ3UgobS6y",
        "colab_type": "code",
        "outputId": "05426a2f-9a68-4b40-fd60-2eeeebdf1b44",
        "colab": {
          "base_uri": "https://localhost:8080/",
          "height": 486
        }
      },
      "source": [
        "!pip install tensornetwork jax jaxlib colorama qcircuit"
      ],
      "execution_count": 1,
      "outputs": [
        {
          "output_type": "stream",
          "text": [
            "Collecting tensornetwork\n",
            "\u001b[?25l  Downloading https://files.pythonhosted.org/packages/37/37/f74c2fcdc56df69786b545bf58a7690832a63f643e0516ac6a92b2d5f5ca/tensornetwork-0.3.0-py3-none-any.whl (216kB)\n",
            "\u001b[K     |████████████████████████████████| 225kB 2.8MB/s \n",
            "\u001b[?25hRequirement already satisfied: jax in /usr/local/lib/python3.6/dist-packages (0.1.64)\n",
            "Requirement already satisfied: jaxlib in /usr/local/lib/python3.6/dist-packages (0.1.45)\n",
            "Collecting colorama\n",
            "  Downloading https://files.pythonhosted.org/packages/c9/dc/45cdef1b4d119eb96316b3117e6d5708a08029992b2fee2c143c7a0a5cc5/colorama-0.4.3-py2.py3-none-any.whl\n",
            "Collecting qcircuit\n",
            "  Downloading https://files.pythonhosted.org/packages/5f/e9/bd5cb2a97948e7cb00034582a2f108281c59b77e1a81405474115de38215/qcircuit-1.0.1.tar.gz\n",
            "Requirement already satisfied: opt-einsum>=2.3.0 in /usr/local/lib/python3.6/dist-packages (from tensornetwork) (3.2.1)\n",
            "Requirement already satisfied: h5py>=2.9.0 in /usr/local/lib/python3.6/dist-packages (from tensornetwork) (2.10.0)\n",
            "Requirement already satisfied: numpy>=1.17 in /usr/local/lib/python3.6/dist-packages (from tensornetwork) (1.18.3)\n",
            "Requirement already satisfied: scipy>=1.1 in /usr/local/lib/python3.6/dist-packages (from tensornetwork) (1.4.1)\n",
            "Collecting graphviz>=0.11.1\n",
            "  Downloading https://files.pythonhosted.org/packages/83/cc/c62100906d30f95d46451c15eb407da7db201e30f42008f3643945910373/graphviz-0.14-py2.py3-none-any.whl\n",
            "Requirement already satisfied: absl-py in /usr/local/lib/python3.6/dist-packages (from jax) (0.9.0)\n",
            "Requirement already satisfied: six in /usr/local/lib/python3.6/dist-packages (from h5py>=2.9.0->tensornetwork) (1.12.0)\n",
            "Building wheels for collected packages: qcircuit\n",
            "  Building wheel for qcircuit (setup.py) ... \u001b[?25l\u001b[?25hdone\n",
            "  Created wheel for qcircuit: filename=qcircuit-1.0.1-cp36-none-any.whl size=5988 sha256=77a3eb6b10aa168b5ef48b716f23e571a22d95455b0e3703533b192337fdb40a\n",
            "  Stored in directory: /root/.cache/pip/wheels/a3/dd/39/d3dece77c172e493c47e48a0b28382d116ff2daad674a7270b\n",
            "Successfully built qcircuit\n",
            "Installing collected packages: graphviz, tensornetwork, colorama, qcircuit\n",
            "  Found existing installation: graphviz 0.10.1\n",
            "    Uninstalling graphviz-0.10.1:\n",
            "      Successfully uninstalled graphviz-0.10.1\n",
            "Successfully installed colorama-0.4.3 graphviz-0.14 qcircuit-1.0.1 tensornetwork-0.3.0\n"
          ],
          "name": "stdout"
        }
      ]
    },
    {
      "cell_type": "code",
      "metadata": {
        "id": "iuBR1V75boiQ",
        "colab_type": "code",
        "colab": {}
      },
      "source": [
        "from qcircuit import QCircuit as qc\n",
        "import numpy as np"
      ],
      "execution_count": 0,
      "outputs": []
    },
    {
      "cell_type": "markdown",
      "metadata": {
        "id": "zkcNlACLsr77",
        "colab_type": "text"
      },
      "source": [
        "Moving further, let's create a larger quantum curcuit of three qubits and using more logical gates.\n",
        "In this section we will build the following quantum curcuit:\n",
        "\n",
        "![picture](https://drive.google.com/uc?id=1G_TztHe0oMCUhdYcH-CrdJUaSzbuTv1D)\n",
        "\n",
        "As you can see I have new logical gates in the circuit. Let's start by disscusing their meaning and how they impact a curcuit or a qubit.\n",
        "\n",
        "The Y gate will turn the state vector of the qubit for the angle π around y axis on the [Bloch sphere](https://en.wikipedia.org/wiki/Bloch_sphere).\n",
        "\n",
        "The Y gate defined as follows:\n",
        "\n",
        "$ Y = \\begin{pmatrix} \n",
        "  0 & -i  \\\\\n",
        "  i & 0 \\end{pmatrix} $,\n",
        "\n",
        "  where $ i = \\sqrt{-1} $ .\n",
        "\n",
        "Acting with the Y gate on initial state vector, we acquire the following state of the quantum circuit:\n",
        "\n",
        "$ Y * (1|0> + 0|1>) = \\begin{pmatrix} \n",
        "  0 & -i  \\\\\n",
        "  i & 0 \\end{pmatrix} * \\begin{pmatrix} 1 \\\\ 0 \\end{pmatrix} =  \\begin{pmatrix} 0 \\\\ i \\end{pmatrix}$\n",
        "\n",
        "As you can see the state fliped from 0 to 1 and turned around the Y-axis, so 1 becames *i*. The impact of the Y gate on a qubit is a combined effect of the X gate and Z gate (discribed below).\n",
        "\n",
        "The CY (controlled-Y) gate, acts in the same way on a control and target qubit as the CX gate. It performs a Y on the target whenever the control is in state `|1⟩`. Again, if  two qubits are in superpossition, and we apply CY gate on this state:\n",
        "\n",
        "$  CY * 1/ \\sqrt{2} * (1|00> + 0|01> +1|10> + 0|11>) = \n",
        "1/\\sqrt{2} \\begin{pmatrix} \n",
        "  1 & 0 & 0 & 0  \\\\\n",
        "  0 & 1 & 0 & 0 \\\\\n",
        "  0 & 0 & 0 & -i \\\\\n",
        "  0 & 0 & i & 0 \\\\\\end{pmatrix} * \\begin{pmatrix} 1 \\\\ 0 \\\\1 \\\\ 0 \\end{pmatrix} = 1/\\sqrt{2} \\begin{pmatrix} 1 \\\\ 0 \\\\ 0 \\\\ i \\end{pmatrix}$\n",
        "\n",
        "The Z gate has the property of flipping the sign of the state vector, thus `|+⟩`changes to `|-⟩`, and vice versa.\n",
        "\n",
        "$ Z * (0|0> + 1|1>) = \\begin{pmatrix} \n",
        "  1 & 0  \\\\\n",
        "  0 & -1 \\end{pmatrix} * \\begin{pmatrix} 0 \\\\ 1 \\end{pmatrix} =  \\begin{pmatrix} 0 \\\\ -1 \\end{pmatrix}$\n",
        "\n",
        "As you can see my state vector is `0|0> - 1|1>`. The probability of the state remains but state turned around Z-axes on angle π.\n",
        "\n",
        "The controlled-Z gate (CZ), like CX and CY gates, acts on a control and target qubit. It performs a Z on the target whenever the control is in state `|1⟩` . Suppose two qubits are in superpossition (we applied Hadamard gate on it a moment before), and we apply CZ gate on this state:\n",
        "\n",
        "\n",
        "$CZ * 1/ \\sqrt{2}*(1|00> + 0|01> +1|10> + 0|11>) = 1/\\sqrt{2} \\begin{pmatrix} \n",
        "  1 & 0 & 0 & 0  \\\\\n",
        "  0 & 1 & 0 & 0 \\\\\n",
        "  0 & 0 & 1 & 0 \\\\\n",
        "  0 & 0 & 0 & -1 \\\\\\end{pmatrix} * \\begin{pmatrix} 1 \\\\ 0 \\\\1 \\\\ 0 \\end{pmatrix} = 1/\\sqrt{2} \\begin{pmatrix} 1 \\\\ 0 \\\\ 1 \\\\ 0 \\end{pmatrix}$\n",
        "\n",
        "\n",
        "Now the easiest part - create this quantum circuit using QCircuit simulator!\n",
        "\n"
      ]
    },
    {
      "cell_type": "code",
      "metadata": {
        "id": "E2rdgIj_OPoz",
        "colab_type": "code",
        "outputId": "733846c4-b3db-4e2b-8a49-2f47910bfeef",
        "colab": {
          "base_uri": "https://localhost:8080/",
          "height": 382
        }
      },
      "source": [
        "# Create three qubits quantum circuit\n",
        "circuit_size = 3\n",
        "my_circuit = qc.QCircuit(circuit_size)\n",
        "\n",
        "# applying gates on the qubits\n",
        "my_circuit.Y(0)\n",
        "my_circuit.H(1)\n",
        "my_circuit.X(2)\n",
        "\n",
        "my_circuit.CX(control=[0], target=1)\n",
        "\n",
        "my_circuit.H(0)\n",
        "my_circuit.CZ(control=[1], target=2)\n",
        "\n",
        "my_circuit.CY(control=[0], target=2)\n",
        "my_circuit.CY(control=[0], target=2)\n",
        "\n",
        "my_circuit.H(0)\n",
        "my_circuit.CZ(control=[1], target=2)\n",
        "\n",
        "my_circuit.CX(control=[0], target=1)\n",
        "\n",
        "my_circuit.Y(0)\n",
        "my_circuit.H(1)\n",
        "my_circuit.X(2)\n",
        "\n",
        "# get amplitude measurement and bitstring sampling\n",
        "print(\"amplitude: \")\n",
        "my_circuit.get_amplitude()\n",
        "\n",
        "print(\"bitstring:\")\n",
        "bitstr, max_str = my_circuit.get_bitstring()\n",
        "for index in range(2 ** circuit_size):\n",
        "  b = np.binary_repr(index, width=circuit_size)\n",
        "  probability = bitstr[index]\n",
        "  print(\"|\" + b + \"> probability \" + str(probability))\n",
        "\n",
        "# state vector\n",
        "state_vector = my_circuit.get_state_vector()\n",
        "print(\"state vector\", state_vector)"
      ],
      "execution_count": 4,
      "outputs": [
        {
          "output_type": "stream",
          "text": [
            "/usr/local/lib/python3.6/dist-packages/jax/lib/xla_bridge.py:123: UserWarning: No GPU/TPU found, falling back to CPU.\n",
            "  warnings.warn('No GPU/TPU found, falling back to CPU.')\n"
          ],
          "name": "stderr"
        },
        {
          "output_type": "stream",
          "text": [
            "amplitude: \n",
            "|000> amplitude 1.0\n",
            "|001> amplitude 0.0\n",
            "|010> amplitude 0.0\n",
            "|011> amplitude 0.0\n",
            "|100> amplitude 0.0\n",
            "|101> amplitude 0.0\n",
            "|110> amplitude 0.0\n",
            "|111> amplitude 0.0\n",
            "bitstring:\n",
            "|000> probability 1.0\n",
            "|001> probability 0.0\n",
            "|010> probability 0.0\n",
            "|011> probability 0.0\n",
            "|100> probability 0.0\n",
            "|101> probability 0.0\n",
            "|110> probability 0.0\n",
            "|111> probability 0.0\n",
            "state vector [1.+0.j 0.+0.j 0.+0.j 0.+0.j 0.+0.j 0.+0.j 0.+0.j 0.+0.j]\n"
          ],
          "name": "stdout"
        }
      ]
    },
    {
      "cell_type": "code",
      "metadata": {
        "id": "N9XkAlXveTMl",
        "colab_type": "code",
        "outputId": "d035e735-d61f-4645-e455-82c7cab9e02c",
        "colab": {
          "base_uri": "https://localhost:8080/",
          "height": 173
        }
      },
      "source": [
        "# visualize\n",
        "my_circuit.visualize()"
      ],
      "execution_count": 5,
      "outputs": [
        {
          "output_type": "stream",
          "text": [
            "    |  ╔═╗   \u001b[31m╔═╗\u001b[0m   ╔═╗   \u001b[31m╔═╗\u001b[0m   \u001b[31m╔═╗\u001b[0m   ╔═╗   \u001b[31m╔═╗\u001b[0m   ╔═╗   \n",
            "q 0 |──║Y║───\u001b[31m║x║\u001b[0m───║H║───\u001b[31m║y║\u001b[0m───\u001b[31m║y║\u001b[0m───║H║───\u001b[31m║x║\u001b[0m───║Y║───\n",
            "    |  ╚═╝   \u001b[31m╚╦╝\u001b[0m   ╚═╝   \u001b[31m╚═╝\u001b[0m   \u001b[31m╚═╝\u001b[0m   ╚═╝   \u001b[31m╚╦╝\u001b[0m   ╚═╝   \n",
            "    |  ╔═╗   \u001b[31m╔╩╗\u001b[0m   \u001b[31m╔═╗\u001b[0m               \u001b[31m╔═╗\u001b[0m   \u001b[31m╔╩╗\u001b[0m   ╔═╗   \n",
            "q 1 |──║H║───\u001b[31m║X║\u001b[0m───\u001b[31m║z║\u001b[0m───────────────\u001b[31m║z║\u001b[0m───\u001b[31m║X║\u001b[0m───║H║───\n",
            "    |  ╚═╝   \u001b[31m╚═╝\u001b[0m   \u001b[31m╚╦╝\u001b[0m               \u001b[31m╚╦╝\u001b[0m   \u001b[31m╚═╝\u001b[0m   ╚═╝   \n",
            "    |  ╔═╗         \u001b[31m╔╩╗\u001b[0m   \u001b[31m╔═╗\u001b[0m   \u001b[31m╔═╗\u001b[0m   \u001b[31m╔╩╗\u001b[0m         ╔═╗   \n",
            "q 2 |──║X║─────────\u001b[31m║Z║\u001b[0m───\u001b[31m║Y║\u001b[0m───\u001b[31m║Y║\u001b[0m───\u001b[31m║Z║\u001b[0m─────────║X║───\n",
            "    |  ╚═╝         \u001b[31m╚═╝\u001b[0m   \u001b[31m╚═╝\u001b[0m   \u001b[31m╚═╝\u001b[0m   \u001b[31m╚═╝\u001b[0m         ╚═╝   \n"
          ],
          "name": "stdout"
        }
      ]
    }
  ]
}