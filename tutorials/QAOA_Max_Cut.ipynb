{
  "nbformat": 4,
  "nbformat_minor": 0,
  "metadata": {
    "colab": {
      "name": "QAOA Max Cut.ipynb",
      "provenance": [],
      "authorship_tag": "ABX9TyNEhjd+frBXUhAwR04SQnI4",
      "include_colab_link": true
    },
    "kernelspec": {
      "name": "python3",
      "display_name": "Python 3"
    }
  },
  "cells": [
    {
      "cell_type": "markdown",
      "metadata": {
        "id": "view-in-github",
        "colab_type": "text"
      },
      "source": [
        "<a href=\"https://colab.research.google.com/github/olgOk/QCircuit/blob/master/tutorials/QAOA_Max_Cut.ipynb\" target=\"_parent\"><img src=\"https://colab.research.google.com/assets/colab-badge.svg\" alt=\"Open In Colab\"/></a>"
      ]
    },
    {
      "cell_type": "markdown",
      "metadata": {
        "id": "E1TTMG5QaDJd",
        "colab_type": "text"
      },
      "source": [
        "# QAOA MAX CUT\n",
        "by Olga Okrut"
      ]
    },
    {
      "cell_type": "markdown",
      "metadata": {
        "id": "lfO4EitxaEqS",
        "colab_type": "text"
      },
      "source": [
        "In this part of my reasearch I will touch the first application of the The Quantum Approximate Optimization Algorithm (QAOA) which is Maximum Cut problem (MAX CUT).\n",
        "\n",
        "The problem is to partition the nodes of a graph into two sets such that the number of edges connecting nodes in opposite sets (edges that are being \"cut\" by the division line of the sets) is maximized. Consider the example graphs below.\n",
        "\n",
        "I am given a graph with four nodes connected with each other through four edges, each vertex has been marked with numbers from zero through three. There are diferent ways I can cut the graph. My main goal is to find such a combination that would give me the maximum number of cuts of the edges. Let's consider case *A)*. In this case I would have only two cuts of the edges. Now, if I would cut as it shown in the case *B)*, the number of cuts would be four which is a maximum number I can have in this example.\n",
        "\n",
        "![picture](https://drive.google.com/uc?id=1FAcc9IN0HU3YhB4ReqcM93nfTMvkxJPj)\n",
        "\n",
        "Before we will dive deep inside the algorithm, let's discuss how we could potentialy represent the fact that two vertices of an edge are in opposite sets (blue set VS white set).  \n",
        "\n",
        "One of the ways of doing this is to use bitstring representation. Now, consider case *A)*, let `|1>` represent the fact the vertex is lying in the Blue color, `|0>` - that the vertex is in White color. Thus, for the case *A* we would have bitstring: `|1100>`. I will have a look at each of the edge and analyze its vertices.\n",
        "\n",
        "| Edge      |   (0, 1)   |  (0, 3)   |  (1, 2)   |   (2, 3) |\n",
        "| :---      |  :---:     |   ---:    | ---:      | ----:    |\n",
        "| Color     | Blue       | Blue/White| Blue/White|  White   |\n",
        "| Cut       |     No     |   Yes     |  Yes      | No       |\n",
        "\n",
        "As you can see, the number of edges, vertices of which are in opposite sets, is two. I will introduce here a cost function ``` C(|z>) = 2 ``` which returns the number of cuts for the `|z>` graph.\n",
        "\n",
        "Let's analyze graph *B)* in the same way. The bitstring for this graph is `|0101>`.\n",
        "\n",
        "| Edge      |   (0, 1)   |  (0, 3)   |  (1, 2)   |   (2, 3) |\n",
        "| :---      |  :---:     |   ---:    | ---:      | ----:    |\n",
        "| Color     | Blue/White | Blue/White| Blue/White|Blue/White|\n",
        "| Cut       |     Yes    |   Yes     |  Yes      |   Yes    |\n",
        "\n",
        "In this case ``` C(|z>) = 4 ```.\n",
        "\n"
      ]
    },
    {
      "cell_type": "markdown",
      "metadata": {
        "id": "mZrf77A_Bi73",
        "colab_type": "text"
      },
      "source": [
        "# Implementation of QAOA Max Cut\n",
        "\n",
        "The goal here is to find such a state vector (bitstring) of the quantum circuit that would maximize the cost (meaning number of cuts) `C(|z>)`. \n",
        "\n",
        "As discussed in the \n",
        "[A Quantum Approximate Optimization Algorithm](https://arxiv.org/pdf/1411.4028.pdf) and  [An Introduction to\n",
        "Quantum Optimization Approximation Algorithm](https://www.cs.umd.edu/class/fall2018/cmsc657/projects/group_16.pdf), we can represent the whole graph and possible cuts through the quantum gates H, RX($\\beta$),  RZ($\\gamma$), CX, where ($\\beta$, $\\gamma$) are parameters which we have to optimize in order to receive the highest value of the cost function `C(|z>)`.\n",
        "\n",
        "Consider the example of the grapf below:\n",
        "\n",
        "```\n",
        "graph = [(0,1), (0,3), (1,2), (2,3)]\n",
        "```\n"
      ]
    },
    {
      "cell_type": "code",
      "metadata": {
        "id": "s-yNHYYJzEvu",
        "colab_type": "code",
        "colab": {}
      },
      "source": [
        "# define graph\n",
        "graph = [(0, 1), (0, 3), (1, 2), (2, 3)]\n",
        "\n",
        "# More graphs to test on\n",
        "# graph = [(0, 1), (0, 4), (1, 2), (1,4), (2, 3), (3,4)]\n",
        "# graph = [(0, 1)]\n",
        "# graph = [(0, 1), (0,2), (1,2)]\n",
        "\n",
        "# find max number in the graph. Circuit size = max + 1\n",
        "size = list(map(max, zip(*graph)))\n",
        "cir_size = max(size) + 1"
      ],
      "execution_count": 0,
      "outputs": []
    },
    {
      "cell_type": "markdown",
      "metadata": {
        "id": "3CkkoDgqBuFd",
        "colab_type": "text"
      },
      "source": [
        "Each pair of two numbers in the list represents an edge (e.g (0,1)), and each number in the pair represents a vertex of the graph (e.g. 0 and 1), or a qubit in the quantum circuit. The algorithm starts with putting all the qubits in the superposition state - we can do this by applying Hadamard gates on each of them.\n",
        "\n",
        "Now, let's discuss the role $(\\beta, \\gamma)$ parameters play in the QAOA Max Cut problem. First of all, I define two functions `UB_operator()` and `UC_operator()` which are going to depend on the said parameters.\n",
        "\n",
        "The `UC_operator` is defined as the following operation on qubits $j$ and $k$:\n",
        "\n",
        "$UC(j, k, \\gamma) = e^{-i\\gamma(I-\\sigma_z^j\\sigma_z^k)/2}$,\n",
        "\n",
        "where $\\sigma_z = \\begin{pmatrix} \n",
        "  1 & 0  \\\\\n",
        "  0 & -1 \\end{pmatrix}$ - Pauli Z gate. This operation will be applied on every pair of $j$ and $k$ for which $(j, k)$ - edge of the graph.\n",
        "\n",
        "The `UB_operator` is defined as the following operation acting on each of the qubits:\n",
        "\n",
        "$UB(\\beta) = \\displaystyle\\prod_{j=1}^{n}e^{-i\\beta\\sigma_x^j}$\n",
        "\n",
        "where $\\sigma_x = \\begin{pmatrix} \n",
        "  0 & 1  \\\\\n",
        "  1 & 0 \\end{pmatrix}$ - Pauli X gate. Quantum circuit can be repsesented through $UC(j, k, \\gamma)$ and $UB(\\beta)$ as shown below:\n",
        "\n",
        "![](https://drive.google.com/uc?id=1buWO8d-aJIjaXX2CQXYeNUeibTqFUtIX)\n",
        "\n",
        "\n",
        "\n",
        "Using several transformations, we can represent both $UC(j, k, \\gamma)$ and $UB(\\beta)$ operators as combinations of the quantum gates defined in the `QCircuit` class.\n",
        "\n",
        "The `UC_operator` that acts on $j$ and $k$ with the angle $\\gamma$ will be define as a sequence of three gates. Two of them are `CX` gates which take any of the two qubits, for example $j$ as a control gate, and $k$ - as a target. Third one is ` RZ` gate that rotates the target qubit $k$ on the given angle of $\\gamma$.\n",
        "\n",
        "$UC(j, k, \\gamma) = CX(j, k) * RZ(\\gamma, k) * CX(j, k)$\n"
      ]
    },
    {
      "cell_type": "markdown",
      "metadata": {
        "id": "OXeA3xgJdClf",
        "colab_type": "text"
      },
      "source": [
        "Install frameworks, and import libraries"
      ]
    },
    {
      "cell_type": "code",
      "metadata": {
        "id": "XmzQ3UgobS6y",
        "colab_type": "code",
        "outputId": "0dd0ef06-4e1d-4ae2-dd1b-00456a838361",
        "colab": {
          "base_uri": "https://localhost:8080/",
          "height": 225
        }
      },
      "source": [
        "!pip install tensornetwork jax jaxlib colorama qcircuit"
      ],
      "execution_count": 2,
      "outputs": [
        {
          "output_type": "stream",
          "text": [
            "Requirement already satisfied: tensornetwork in /usr/local/lib/python3.6/dist-packages (0.3.0)\n",
            "Requirement already satisfied: jax in /usr/local/lib/python3.6/dist-packages (0.1.64)\n",
            "Requirement already satisfied: jaxlib in /usr/local/lib/python3.6/dist-packages (0.1.45)\n",
            "Requirement already satisfied: colorama in /usr/local/lib/python3.6/dist-packages (0.4.3)\n",
            "Requirement already satisfied: qcircuit in /usr/local/lib/python3.6/dist-packages (1.0.1)\n",
            "Requirement already satisfied: numpy>=1.17 in /usr/local/lib/python3.6/dist-packages (from tensornetwork) (1.18.3)\n",
            "Requirement already satisfied: opt-einsum>=2.3.0 in /usr/local/lib/python3.6/dist-packages (from tensornetwork) (3.2.1)\n",
            "Requirement already satisfied: h5py>=2.9.0 in /usr/local/lib/python3.6/dist-packages (from tensornetwork) (2.10.0)\n",
            "Requirement already satisfied: graphviz>=0.11.1 in /usr/local/lib/python3.6/dist-packages (from tensornetwork) (0.14)\n",
            "Requirement already satisfied: scipy>=1.1 in /usr/local/lib/python3.6/dist-packages (from tensornetwork) (1.4.1)\n",
            "Requirement already satisfied: absl-py in /usr/local/lib/python3.6/dist-packages (from jax) (0.9.0)\n",
            "Requirement already satisfied: six in /usr/local/lib/python3.6/dist-packages (from h5py>=2.9.0->tensornetwork) (1.12.0)\n"
          ],
          "name": "stdout"
        }
      ]
    },
    {
      "cell_type": "code",
      "metadata": {
        "id": "iuBR1V75boiQ",
        "colab_type": "code",
        "colab": {}
      },
      "source": [
        "from qcircuit import QCircuit as qc\n",
        "import numpy as np"
      ],
      "execution_count": 0,
      "outputs": []
    },
    {
      "cell_type": "code",
      "metadata": {
        "id": "vAe40NKEFiQG",
        "colab_type": "code",
        "colab": {}
      },
      "source": [
        "# unitary operator UC_operator with parameter gamma\n",
        "# act on qubits whose corresponding vertices are joined by an edge in the graph\n",
        "def UC_operator(gamma, circuit):\n",
        "  \"\"\"\n",
        "    Apply CX, RZ quantum gates on circuit.\n",
        "    Args:\n",
        "      gamma: an angle in radians to turn the state vector around Z axis.\n",
        "      circuit: an instance of the QCircuit class.\n",
        "    Return:\n",
        "      None.\n",
        "  \"\"\"\n",
        "  for edge in graph:\n",
        "      cont = edge[0]\n",
        "      tar = edge[1]\n",
        "      circuit.CX(control=[cont], target=tar)\n",
        "      circuit.R(phi=gamma, target=tar)\n",
        "      circuit.CX(control=[cont], target=tar)"
      ],
      "execution_count": 0,
      "outputs": []
    },
    {
      "cell_type": "markdown",
      "metadata": {
        "id": "Ze560f3hFv93",
        "colab_type": "text"
      },
      "source": [
        "The UB_operator with the angle  𝛽  is defined through RX gate with the angle of  2𝛽 \n",
        "\n",
        "𝑈𝐵(𝛽)=𝑅𝑋(2𝛽,0),𝑅𝑋(2𝛽,1),...,𝑅𝑋(2𝛽,𝑛) , where  𝑛  is a number of qubits in the circuit."
      ]
    },
    {
      "cell_type": "code",
      "metadata": {
        "id": "21ulUb6VF1ak",
        "colab_type": "code",
        "colab": {}
      },
      "source": [
        "# unitary operator UB_operator with parameter beta\n",
        "#  act on individual qubit\n",
        "def UB_operator(beta, circuit):\n",
        "  \"\"\"\n",
        "    Apply RX quantum gate on circuit.\n",
        "    Args:\n",
        "      beta: an angle in radians to turn the state vector around X axis.\n",
        "      circuit: an instance of the QCircuit class.\n",
        "    Return:\n",
        "      None.\n",
        "  \"\"\"\n",
        "  for qbit in range(cir_size):\n",
        "    circuit.RX(phi=2*beta, target=qbit)"
      ],
      "execution_count": 0,
      "outputs": []
    },
    {
      "cell_type": "markdown",
      "metadata": {
        "id": "3u9g6CbMF3wB",
        "colab_type": "text"
      },
      "source": [
        "Being said, the quantum circuit below will represent the graph.\n",
        "![Max Cut Circuit](https://drive.google.com/uc?id=1ewXDlP473MhdtE3rou1iXyW4l04RcJ-W)"
      ]
    },
    {
      "cell_type": "markdown",
      "metadata": {
        "id": "PM0NGq4TGOTx",
        "colab_type": "text"
      },
      "source": [
        "\n",
        "\n",
        "*Important note: as we use the constant $e$ raised to the power of $iA$ for both of the operators, by the Euler's identity, they can be represented in terms of $cos$ and $sin$ fucntions. Because of that, both of my parameters - $\\beta$ and $\\gamma$ are periodical, means we don't have to check angles beyond [0, $2\\pi$] for $\\gamma$ and [0, $\\pi$] for $\\beta$ (as it is being multiplied by 2 when passed to the RX gate)*\n",
        "\n",
        "Now, when we have defined all of the operators, let's get back to the algorithm. After applying the Hadamard gates on all of the qubits, we iterate through each edge in the graph and apply `UC_operator` (CX, RZ). For example, if we take the first pair in the list `(0, 1)`, it means we have to apply CX on qubit zero and qubit one where controled is q0 and target - q1. Then we apply RZ gate on the target qubit (q1 in this case), and again CX gate. After we are done with each edge, we have to apply `UB_operator` (RX) on all qubits.\n",
        "After applying all the gates I will have the state vector and the bitstring assosiated with it. Analyzing the bitstring, we can now calculate the value of the cost function. \n",
        "\n",
        "The function `maxcut()` handles iteration through each edge in the graph. Since I have to find the maximum number of cuts, it is straightforward there exist a function which we can minimize, the function calls objective (`objective()`). The function will return minimized value for `ultimate_cost`:\n",
        "\n",
        "```\n",
        "ultimate_cost = ultimate_cost - cost \n",
        "```\n",
        "\n",
        "Now, my last step is to initialize parameters $\\beta$ and $\\gamma$, iterate through the whole interval with a step, and find such values $(\\beta, \\gamma)$ that minimize the objective function.\n",
        "\n",
        "In short, steps for QAOA Max Cut:\n",
        "\n",
        "1.   Initialize parameters $\\beta$ and $\\gamma$ for RX and RZ gates, respectfully. Where $\\beta = [0, \\pi]$ and $\\gamma = [0, 2\\pi]$.\n",
        "2.   Bring the circuit to its superposition.\n",
        "3.   Constuct quantum circuit using *UC* and *UB* operators represented with CX, RX, and  RZ gates.\n",
        "4.   Get the bitstring and calculate the cost function.\n",
        "5.   Repeat steps from 1 to 4 to a number of times. \n"
      ]
    },
    {
      "cell_type": "code",
      "metadata": {
        "id": "zxYP3YqQF5SC",
        "colab_type": "code",
        "colab": {}
      },
      "source": [
        "# build the quantum circuit\n",
        "def q_circuit(gamma, beta, num_layers=1, edge=None):\n",
        "  \"\"\"\n",
        "    Apply the sequences of UB and UC operations, get the bitstring\n",
        "    of the final state, and calculate the counts of cuts.\n",
        "    Args:\n",
        "       gamma: an angle parameter for UC operator.\n",
        "       beta: an angle parameter for UB operator.\n",
        "       num_layers: numbers of layers to apply.\n",
        "       edge: current edge in the graph.\n",
        "    Return:\n",
        "      cost: the value of the cost function (number of cuts).\n",
        "  \"\"\"\n",
        "\n",
        "  # initialize quantum circuit\n",
        "  circuit = qc.QCircuit(cir_size)\n",
        "\n",
        "  # bring to the supperposition: apply the Hadamard gates\n",
        "  for qbit in range(cir_size):\n",
        "    circuit.H(target=qbit)\n",
        "  \n",
        "  UC_operator(gamma=gamma, circuit=circuit)\n",
        "  UB_operator(beta=beta, circuit=circuit)\n",
        "  \n",
        "  # this part for the future implementations\n",
        "  if edge is None:\n",
        "    # measurement phase\n",
        "    # print(\"in None\")\n",
        "    probab, bitstring = circuit.get_bitstring()\n",
        "    return bitstring\n",
        "\n",
        "  # apply Z gates on edges\n",
        "  circuit.Z(target=edge[0])\n",
        "  circuit.Z(target=edge[1])\n",
        "\n",
        "  probab, bitstring = circuit.get_bitstring()\n",
        "  \n",
        "  # print(\"gama = \", gamma, \"beta = \", beta, \"max_probab = \", bitstring)\n",
        "  bitstring = str(bitstring)\n",
        "  if (bitstring[edge[0]] != bitstring[edge[1]]):\n",
        "    cost = 1\n",
        "  else:\n",
        "    cost = 0\n",
        "\n",
        "  return cost"
      ],
      "execution_count": 0,
      "outputs": []
    },
    {
      "cell_type": "code",
      "metadata": {
        "id": "LLum9zBwGS7z",
        "colab_type": "code",
        "colab": {}
      },
      "source": [
        "def maxcut(num_of_layers=1):\n",
        "  \"\"\"\n",
        "    Initialize beta and gamma parametes. Find such values of the parameters  \n",
        "    that will minimize the objective function.\n",
        "    Args:\n",
        "       num_of_layers: number of layers to apply\n",
        "    Return:\n",
        "      Bitstring reflective maximum cut in the graph.\n",
        "  \"\"\"\n",
        "  # print(\"layer = \", num_of_layers)\n",
        "  \n",
        "  def objective( params):\n",
        "      ultimate_cost = 0\n",
        "      gammas = params[0]\n",
        "      betas = params[1]\n",
        "      for edge in graph:\n",
        "          # objective for the MaxCut problem\n",
        "          c = q_circuit(gammas, betas, edge=edge, num_layers=num_of_layers)\n",
        "          ultimate_cost -= c\n",
        "      return ultimate_cost\n",
        "\n",
        "  # initialize beta, gamma parameters.\n",
        "  params = np.array([2*0.0*np.pi, 0.0*np.pi], dtype=np.float)\n",
        "\n",
        "  # find optimal beta, gamma parameters\n",
        "  min_cut = objective(params)\n",
        "  gamma_min = 0\n",
        "  beta_min = 0\n",
        "  min_cut = 0\n",
        "  for g in np.arange(0* np.pi, 2*np.pi, np.pi/10):\n",
        "    for b in np.arange( 0, np.pi, np.pi/10):\n",
        "      params[0] = g\n",
        "      params[1] = b\n",
        "      current_mincut = objective(params)\n",
        "      if current_mincut < min_cut:\n",
        "        min_cut = current_mincut\n",
        "        gamma_min = g\n",
        "        beta_min = b\n",
        "  cut = q_circuit(gamma_min, beta_min, edge=None, num_layers=num_of_layers)\n",
        "  return cut, min_cut"
      ],
      "execution_count": 0,
      "outputs": []
    },
    {
      "cell_type": "code",
      "metadata": {
        "id": "hg8-N3ePGU3r",
        "colab_type": "code",
        "outputId": "b4f0bf06-5fb3-4b3b-c939-1b7a74d2dedc",
        "colab": {
          "base_uri": "https://localhost:8080/",
          "height": 86
        }
      },
      "source": [
        "max_cut_str, obj = maxcut(1)\n",
        "print(\"Max cut bitstring = \", max_cut_str)\n",
        "print(\"Objective to minimize = \", obj)"
      ],
      "execution_count": 8,
      "outputs": [
        {
          "output_type": "stream",
          "text": [
            "/usr/local/lib/python3.6/dist-packages/jax/lib/xla_bridge.py:123: UserWarning: No GPU/TPU found, falling back to CPU.\n",
            "  warnings.warn('No GPU/TPU found, falling back to CPU.')\n"
          ],
          "name": "stderr"
        },
        {
          "output_type": "stream",
          "text": [
            "Max cut bitstring =  0101\n",
            "Objective to minimize =  -4\n"
          ],
          "name": "stdout"
        }
      ]
    },
    {
      "cell_type": "markdown",
      "metadata": {
        "id": "U9WtPzE9GZW7",
        "colab_type": "text"
      },
      "source": [
        "## Optimisation and Improvements\n",
        "\n",
        "In order to improve the curren realization of the QAOA Max Cut consider the following work to be done.\n",
        "\n",
        "\n",
        "1.   Implement an optimizer for ($\\beta, \\gamma$) parameters based on gradient discent algorithm. Optimizer must work with complex numbers. (possible solution with Tensorflow Quantum)\n",
        "2.   Collect a distribution of the `|z>` (bitstring) and `C(|z>)` (cost function). Implement a distribution chart based on collected values.\n",
        "3.   Implement more than one layer approximating the evolution. This pottentilly might impact on the accuraccy of the state vector (bitstring) distribution.  \n",
        "\n"
      ]
    },
    {
      "cell_type": "markdown",
      "metadata": {
        "id": "Ajc785X6GcDL",
        "colab_type": "text"
      },
      "source": [
        "## Reference\n",
        "\n",
        "\n",
        "\n",
        "1.   [A Quantum Approximate Optimization Algorithm](https://arxiv.org/pdf/1411.4028.pdf) \n",
        "2.   [An Introduction to Quantum Optimization Approximation Algorithm](https://www.cs.umd.edu/class/fall2018/cmsc657/projects/group_16.pdf)\n",
        "3.   [Basic circuit compilation techniques for an ion-trap\n",
        "quantum machine](https://iopscience.iop.org/article/10.1088/1367-2630/aa5e47/pdf)\n",
        "4.    [Smaller Two-Qubit Circuits for Quantum Communication and Computation](https://web.eecs.umich.edu/~imarkov/pubs/conf/date04-2qubits.pdf)\n",
        "5.    [Quantum Approximate Optimization Algorithm (QAOA)](https://grove-docs.readthedocs.io/en/latest/qaoa.html)\n",
        "\n"
      ]
    }
  ]
}