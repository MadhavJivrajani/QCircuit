{
  "nbformat": 4,
  "nbformat_minor": 0,
  "metadata": {
    "colab": {
      "name": "How to build Medium Circuit.ipynb",
      "provenance": [],
      "authorship_tag": "ABX9TyMd8D2N1MuiNB3rkOB05U+b",
      "include_colab_link": true
    },
    "kernelspec": {
      "name": "python3",
      "display_name": "Python 3"
    }
  },
  "cells": [
    {
      "cell_type": "markdown",
      "metadata": {
        "id": "view-in-github",
        "colab_type": "text"
      },
      "source": [
        "<a href=\"https://colab.research.google.com/github/olgOk/QCircuit/blob/master/tutorials/How_to_build_Medium_Circuit.ipynb\" target=\"_parent\"><img src=\"https://colab.research.google.com/assets/colab-badge.svg\" alt=\"Open In Colab\"/></a>"
      ]
    },
    {
      "cell_type": "markdown",
      "metadata": {
        "id": "6y3sabRkmNlQ",
        "colab_type": "text"
      },
      "source": [
        "# Medium Curcuit\n",
        "\n",
        "by Olga Okrut"
      ]
    },
    {
      "cell_type": "markdown",
      "metadata": {
        "id": "OXeA3xgJdClf",
        "colab_type": "text"
      },
      "source": [
        "Install frameworks, and import libraries"
      ]
    },
    {
      "cell_type": "code",
      "metadata": {
        "id": "XmzQ3UgobS6y",
        "colab_type": "code",
        "outputId": "e193e84f-d6ac-40d3-9cc3-023bb22463b6",
        "colab": {
          "base_uri": "https://localhost:8080/",
          "height": 486
        }
      },
      "source": [
        "!pip install tensornetwork jax jaxlib colorama qcircuit"
      ],
      "execution_count": 1,
      "outputs": [
        {
          "output_type": "stream",
          "text": [
            "Collecting tensornetwork\n",
            "\u001b[?25l  Downloading https://files.pythonhosted.org/packages/37/37/f74c2fcdc56df69786b545bf58a7690832a63f643e0516ac6a92b2d5f5ca/tensornetwork-0.3.0-py3-none-any.whl (216kB)\n",
            "\r\u001b[K     |█▌                              | 10kB 19.5MB/s eta 0:00:01\r\u001b[K     |███                             | 20kB 2.2MB/s eta 0:00:01\r\u001b[K     |████▌                           | 30kB 3.2MB/s eta 0:00:01\r\u001b[K     |██████                          | 40kB 2.1MB/s eta 0:00:01\r\u001b[K     |███████▋                        | 51kB 2.6MB/s eta 0:00:01\r\u001b[K     |█████████                       | 61kB 3.1MB/s eta 0:00:01\r\u001b[K     |██████████▋                     | 71kB 3.5MB/s eta 0:00:01\r\u001b[K     |████████████▏                   | 81kB 2.8MB/s eta 0:00:01\r\u001b[K     |█████████████▋                  | 92kB 3.1MB/s eta 0:00:01\r\u001b[K     |███████████████▏                | 102kB 3.4MB/s eta 0:00:01\r\u001b[K     |████████████████▋               | 112kB 3.4MB/s eta 0:00:01\r\u001b[K     |██████████████████▏             | 122kB 3.4MB/s eta 0:00:01\r\u001b[K     |███████████████████▊            | 133kB 3.4MB/s eta 0:00:01\r\u001b[K     |█████████████████████▏          | 143kB 3.4MB/s eta 0:00:01\r\u001b[K     |██████████████████████▊         | 153kB 3.4MB/s eta 0:00:01\r\u001b[K     |████████████████████████▎       | 163kB 3.4MB/s eta 0:00:01\r\u001b[K     |█████████████████████████▊      | 174kB 3.4MB/s eta 0:00:01\r\u001b[K     |███████████████████████████▎    | 184kB 3.4MB/s eta 0:00:01\r\u001b[K     |████████████████████████████▊   | 194kB 3.4MB/s eta 0:00:01\r\u001b[K     |██████████████████████████████▎ | 204kB 3.4MB/s eta 0:00:01\r\u001b[K     |███████████████████████████████▉| 215kB 3.4MB/s eta 0:00:01\r\u001b[K     |████████████████████████████████| 225kB 3.4MB/s \n",
            "\u001b[?25hRequirement already satisfied: jax in /usr/local/lib/python3.6/dist-packages (0.1.64)\n",
            "Requirement already satisfied: jaxlib in /usr/local/lib/python3.6/dist-packages (0.1.45)\n",
            "Collecting colorama\n",
            "  Downloading https://files.pythonhosted.org/packages/c9/dc/45cdef1b4d119eb96316b3117e6d5708a08029992b2fee2c143c7a0a5cc5/colorama-0.4.3-py2.py3-none-any.whl\n",
            "Collecting qcircuit\n",
            "  Downloading https://files.pythonhosted.org/packages/5f/e9/bd5cb2a97948e7cb00034582a2f108281c59b77e1a81405474115de38215/qcircuit-1.0.1.tar.gz\n",
            "Requirement already satisfied: h5py>=2.9.0 in /usr/local/lib/python3.6/dist-packages (from tensornetwork) (2.10.0)\n",
            "Requirement already satisfied: numpy>=1.17 in /usr/local/lib/python3.6/dist-packages (from tensornetwork) (1.18.3)\n",
            "Collecting graphviz>=0.11.1\n",
            "  Downloading https://files.pythonhosted.org/packages/83/cc/c62100906d30f95d46451c15eb407da7db201e30f42008f3643945910373/graphviz-0.14-py2.py3-none-any.whl\n",
            "Requirement already satisfied: opt-einsum>=2.3.0 in /usr/local/lib/python3.6/dist-packages (from tensornetwork) (3.2.1)\n",
            "Requirement already satisfied: scipy>=1.1 in /usr/local/lib/python3.6/dist-packages (from tensornetwork) (1.4.1)\n",
            "Requirement already satisfied: absl-py in /usr/local/lib/python3.6/dist-packages (from jax) (0.9.0)\n",
            "Requirement already satisfied: six in /usr/local/lib/python3.6/dist-packages (from h5py>=2.9.0->tensornetwork) (1.12.0)\n",
            "Building wheels for collected packages: qcircuit\n",
            "  Building wheel for qcircuit (setup.py) ... \u001b[?25l\u001b[?25hdone\n",
            "  Created wheel for qcircuit: filename=qcircuit-1.0.1-cp36-none-any.whl size=5988 sha256=49838042efb1685d1e9f6c7ad59dd28cdc9ed18c1444c7b8a3c2e82bcb578ce0\n",
            "  Stored in directory: /root/.cache/pip/wheels/a3/dd/39/d3dece77c172e493c47e48a0b28382d116ff2daad674a7270b\n",
            "Successfully built qcircuit\n",
            "Installing collected packages: graphviz, tensornetwork, colorama, qcircuit\n",
            "  Found existing installation: graphviz 0.10.1\n",
            "    Uninstalling graphviz-0.10.1:\n",
            "      Successfully uninstalled graphviz-0.10.1\n",
            "Successfully installed colorama-0.4.3 graphviz-0.14 qcircuit-1.0.1 tensornetwork-0.3.0\n"
          ],
          "name": "stdout"
        }
      ]
    },
    {
      "cell_type": "code",
      "metadata": {
        "id": "iuBR1V75boiQ",
        "colab_type": "code",
        "colab": {}
      },
      "source": [
        "from qcircuit import QCircuit as qc\n",
        "import numpy as np"
      ],
      "execution_count": 0,
      "outputs": []
    },
    {
      "cell_type": "markdown",
      "metadata": {
        "id": "NaqLhGoSmUtY",
        "colab_type": "text"
      },
      "source": [
        "Now, let's create a quantum curcuit with more logical gates.\n",
        "In the first section I have introduced Hadamard(H) and CNOT(CX) gates. In this section I will need a new operator - logical NOT, or X gate in quantum computing. We will implement the following quantum curcuit:\n",
        "\n",
        "![picture](https://drive.google.com/uc?id=1ruIqpjRc7lcdxwq7fLYxp_2H4wcEQGgq)\n",
        "\n",
        "First, I want to discuss X gate. Again, suppose I want to apply X gate on initial state vector of one qubit:\n",
        "```\n",
        "1|0> + 0|1>\n",
        "```\n",
        "\n",
        "The X gate defined as follows:\n",
        "\n",
        "$ X = \\begin{pmatrix} \n",
        "  0 & 1  \\\\\n",
        "  1 & 0 \\end{pmatrix} $\n",
        "\n",
        "Acting with X gate on initial state vector, we acquire the following state of the quantum circuit:\n",
        "\n",
        "$ X * (1|0> + 0|1>) = \\begin{pmatrix} \n",
        "  0 & 1  \\\\\n",
        "  1 & 0 \\end{pmatrix} * \\begin{pmatrix} 1 \\\\ 0 \\end{pmatrix} =  \\begin{pmatrix} 0 \\\\ 1 \\end{pmatrix}$\n",
        "\n",
        "This means that after applying X gate there is a zero probabality of the state ``` |0> ```, and full (1) probability of ``` |1> ```. Or ``` 0|0> + 1|1> ```. In other words, applying X gate on the state flips its chances of being ``` |1> ``` to ``` |0> ``` and vice versa.\n",
        "\n",
        "Being said, let's create this curcuit.\n",
        "\n",
        "\n"
      ]
    },
    {
      "cell_type": "code",
      "metadata": {
        "id": "5WhgAfruLqbk",
        "colab_type": "code",
        "outputId": "74a54f0a-6f11-462c-df6f-3f70f58e8258",
        "colab": {
          "base_uri": "https://localhost:8080/",
          "height": 243
        }
      },
      "source": [
        "# Create two qubits quantum circuit\n",
        "circuit_size = 2\n",
        "my_circuit = qc.QCircuit(circuit_size)\n",
        "\n",
        "# Apply gates on the quibits\n",
        "my_circuit.X(1)\n",
        "my_circuit.CX(control=[0], target=1)\n",
        "my_circuit.CX(control=[1], target=0)\n",
        "my_circuit.CX(control=[0], target=1)\n",
        "\n",
        "# get amplitude measurement and bitstring sampling\n",
        "print(\"amplitude: \")\n",
        "my_circuit.get_amplitude()\n",
        "print(\"bitstring:\")\n",
        "bitstr, max_str = my_circuit.get_bitstring()\n",
        "for index in range(2 ** circuit_size):\n",
        "  b = np.binary_repr(index, width=circuit_size)\n",
        "  probability = bitstr[index]\n",
        "  print(\"|\" + b + \"> probability \" + str(probability))\n",
        "\n",
        "# state vector\n",
        "state_vector = my_circuit.get_state_vector()\n",
        "print(\"state vector\", state_vector)"
      ],
      "execution_count": 3,
      "outputs": [
        {
          "output_type": "stream",
          "text": [
            "/usr/local/lib/python3.6/dist-packages/jax/lib/xla_bridge.py:123: UserWarning: No GPU/TPU found, falling back to CPU.\n",
            "  warnings.warn('No GPU/TPU found, falling back to CPU.')\n"
          ],
          "name": "stderr"
        },
        {
          "output_type": "stream",
          "text": [
            "amplitude: \n",
            "|00> amplitude 0.0\n",
            "|01> amplitude 1.0\n",
            "|10> amplitude 0.0\n",
            "|11> amplitude 0.0\n",
            "bitstring:\n",
            "|00> probability 0.0\n",
            "|01> probability 1.0\n",
            "|10> probability 0.0\n",
            "|11> probability 0.0\n",
            "state vector [0.+0.j 1.+0.j 0.+0.j 0.+0.j]\n"
          ],
          "name": "stdout"
        }
      ]
    },
    {
      "cell_type": "code",
      "metadata": {
        "id": "EXevTUkcVM1n",
        "colab_type": "code",
        "outputId": "5ae3b381-b2f1-4be3-8f4b-93a5c7e44e25",
        "colab": {
          "base_uri": "https://localhost:8080/",
          "height": 121
        }
      },
      "source": [
        "# visualize\n",
        "my_circuit.visualize()"
      ],
      "execution_count": 4,
      "outputs": [
        {
          "output_type": "stream",
          "text": [
            "    |        \u001b[31m╔═╗\u001b[0m   \u001b[31m╔═╗\u001b[0m   \u001b[31m╔═╗\u001b[0m   \n",
            "q 0 |────────\u001b[31m║x║\u001b[0m───\u001b[31m║X║\u001b[0m───\u001b[31m║x║\u001b[0m───\n",
            "    |        \u001b[31m╚╦╝\u001b[0m   \u001b[31m╚╦╝\u001b[0m   \u001b[31m╚╦╝\u001b[0m   \n",
            "    |  ╔═╗   \u001b[31m╔╩╗\u001b[0m   \u001b[31m╔╩╗\u001b[0m   \u001b[31m╔╩╗\u001b[0m   \n",
            "q 1 |──║X║───\u001b[31m║X║\u001b[0m───\u001b[31m║x║\u001b[0m───\u001b[31m║X║\u001b[0m───\n",
            "    |  ╚═╝   \u001b[31m╚═╝\u001b[0m   \u001b[31m╚═╝\u001b[0m   \u001b[31m╚═╝\u001b[0m   \n"
          ],
          "name": "stdout"
        }
      ]
    }
  ]
}