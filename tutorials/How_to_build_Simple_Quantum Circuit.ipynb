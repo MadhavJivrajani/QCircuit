{
  "nbformat": 4,
  "nbformat_minor": 0,
  "metadata": {
    "colab": {
      "name": "How to build Easy QC.ipynb",
      "provenance": [],
      "collapsed_sections": [],
      "authorship_tag": "ABX9TyNWZnib084VT1p3pnCMj+eY",
      "include_colab_link": true
    },
    "kernelspec": {
      "name": "python3",
      "display_name": "Python 3"
    }
  },
  "cells": [
    {
      "cell_type": "markdown",
      "metadata": {
        "id": "view-in-github",
        "colab_type": "text"
      },
      "source": [
        "<a href=\"https://colab.research.google.com/github/olgOk/QCircuit/blob/master/tutorials/How_to_build_Simple_Quantum%20Circuit.ipynb\" target=\"_parent\"><img src=\"https://colab.research.google.com/assets/colab-badge.svg\" alt=\"Open In Colab\"/></a>"
      ]
    },
    {
      "cell_type": "markdown",
      "metadata": {
        "id": "-N3JRwuXmGQU",
        "colab_type": "text"
      },
      "source": [
        "# Easy Curcuit\n",
        "by Olga Okrut"
      ]
    },
    {
      "cell_type": "markdown",
      "metadata": {
        "id": "OXeA3xgJdClf",
        "colab_type": "text"
      },
      "source": [
        "Install frameworks, and import libraries"
      ]
    },
    {
      "cell_type": "code",
      "metadata": {
        "id": "XmzQ3UgobS6y",
        "colab_type": "code",
        "colab": {
          "base_uri": "https://localhost:8080/",
          "height": 486
        },
        "outputId": "b40de8f7-030b-4820-d27f-eaf3e95b30ab"
      },
      "source": [
        "!pip install tensornetwork jax jaxlib colorama qcircuit"
      ],
      "execution_count": 1,
      "outputs": [
        {
          "output_type": "stream",
          "text": [
            "Collecting tensornetwork\n",
            "\u001b[?25l  Downloading https://files.pythonhosted.org/packages/37/37/f74c2fcdc56df69786b545bf58a7690832a63f643e0516ac6a92b2d5f5ca/tensornetwork-0.3.0-py3-none-any.whl (216kB)\n",
            "\r\u001b[K     |█▌                              | 10kB 17.3MB/s eta 0:00:01\r\u001b[K     |███                             | 20kB 5.7MB/s eta 0:00:01\r\u001b[K     |████▌                           | 30kB 8.0MB/s eta 0:00:01\r\u001b[K     |██████                          | 40kB 10.1MB/s eta 0:00:01\r\u001b[K     |███████▋                        | 51kB 6.6MB/s eta 0:00:01\r\u001b[K     |█████████                       | 61kB 7.6MB/s eta 0:00:01\r\u001b[K     |██████████▋                     | 71kB 8.6MB/s eta 0:00:01\r\u001b[K     |████████████▏                   | 81kB 9.5MB/s eta 0:00:01\r\u001b[K     |█████████████▋                  | 92kB 7.8MB/s eta 0:00:01\r\u001b[K     |███████████████▏                | 102kB 8.5MB/s eta 0:00:01\r\u001b[K     |████████████████▋               | 112kB 8.5MB/s eta 0:00:01\r\u001b[K     |██████████████████▏             | 122kB 8.5MB/s eta 0:00:01\r\u001b[K     |███████████████████▊            | 133kB 8.5MB/s eta 0:00:01\r\u001b[K     |█████████████████████▏          | 143kB 8.5MB/s eta 0:00:01\r\u001b[K     |██████████████████████▊         | 153kB 8.5MB/s eta 0:00:01\r\u001b[K     |████████████████████████▎       | 163kB 8.5MB/s eta 0:00:01\r\u001b[K     |█████████████████████████▊      | 174kB 8.5MB/s eta 0:00:01\r\u001b[K     |███████████████████████████▎    | 184kB 8.5MB/s eta 0:00:01\r\u001b[K     |████████████████████████████▊   | 194kB 8.5MB/s eta 0:00:01\r\u001b[K     |██████████████████████████████▎ | 204kB 8.5MB/s eta 0:00:01\r\u001b[K     |███████████████████████████████▉| 215kB 8.5MB/s eta 0:00:01\r\u001b[K     |████████████████████████████████| 225kB 8.5MB/s \n",
            "\u001b[?25hRequirement already satisfied: jax in /usr/local/lib/python3.6/dist-packages (0.1.64)\n",
            "Requirement already satisfied: jaxlib in /usr/local/lib/python3.6/dist-packages (0.1.45)\n",
            "Collecting colorama\n",
            "  Downloading https://files.pythonhosted.org/packages/c9/dc/45cdef1b4d119eb96316b3117e6d5708a08029992b2fee2c143c7a0a5cc5/colorama-0.4.3-py2.py3-none-any.whl\n",
            "Collecting qcircuit\n",
            "  Downloading https://files.pythonhosted.org/packages/5f/e9/bd5cb2a97948e7cb00034582a2f108281c59b77e1a81405474115de38215/qcircuit-1.0.1.tar.gz\n",
            "Collecting graphviz>=0.11.1\n",
            "  Downloading https://files.pythonhosted.org/packages/83/cc/c62100906d30f95d46451c15eb407da7db201e30f42008f3643945910373/graphviz-0.14-py2.py3-none-any.whl\n",
            "Requirement already satisfied: scipy>=1.1 in /usr/local/lib/python3.6/dist-packages (from tensornetwork) (1.4.1)\n",
            "Requirement already satisfied: h5py>=2.9.0 in /usr/local/lib/python3.6/dist-packages (from tensornetwork) (2.10.0)\n",
            "Requirement already satisfied: numpy>=1.17 in /usr/local/lib/python3.6/dist-packages (from tensornetwork) (1.18.3)\n",
            "Requirement already satisfied: opt-einsum>=2.3.0 in /usr/local/lib/python3.6/dist-packages (from tensornetwork) (3.2.1)\n",
            "Requirement already satisfied: absl-py in /usr/local/lib/python3.6/dist-packages (from jax) (0.9.0)\n",
            "Requirement already satisfied: six in /usr/local/lib/python3.6/dist-packages (from h5py>=2.9.0->tensornetwork) (1.12.0)\n",
            "Building wheels for collected packages: qcircuit\n",
            "  Building wheel for qcircuit (setup.py) ... \u001b[?25l\u001b[?25hdone\n",
            "  Created wheel for qcircuit: filename=qcircuit-1.0.1-cp36-none-any.whl size=5988 sha256=442171a909c9fa1c3b9cc703385ae28bb7740fc6ef4466cea35d3f11c8c6bdae\n",
            "  Stored in directory: /root/.cache/pip/wheels/a3/dd/39/d3dece77c172e493c47e48a0b28382d116ff2daad674a7270b\n",
            "Successfully built qcircuit\n",
            "Installing collected packages: graphviz, tensornetwork, colorama, qcircuit\n",
            "  Found existing installation: graphviz 0.10.1\n",
            "    Uninstalling graphviz-0.10.1:\n",
            "      Successfully uninstalled graphviz-0.10.1\n",
            "Successfully installed colorama-0.4.3 graphviz-0.14 qcircuit-1.0.1 tensornetwork-0.3.0\n"
          ],
          "name": "stdout"
        }
      ]
    },
    {
      "cell_type": "code",
      "metadata": {
        "id": "iuBR1V75boiQ",
        "colab_type": "code",
        "colab": {}
      },
      "source": [
        "from qcircuit import QCircuit as qc\n",
        "import numpy as np"
      ],
      "execution_count": 0,
      "outputs": []
    },
    {
      "cell_type": "markdown",
      "metadata": {
        "id": "SHN-eJiKdcjD",
        "colab_type": "text"
      },
      "source": [
        "Let start creating a quantum circuit with an easy example (see image below). The circuit consists of two qubits, each of the qubit set to its initiall state:\n",
        "```\n",
        "1|0> + 0|1>\n",
        "```\n",
        "\n",
        "![picture](https://drive.google.com/uc?id=1EftxMH7R3eOrTxAA1FnEpgXEPv2e7oU_)\n",
        "\n",
        "On the first qubit I want to apply Hadamard gate which will bring the initial state of the first qubit to a superposition, in other words:\n",
        "\n",
        " $ H * (1|0> + 0|1>) = 1/\\sqrt{2} \\begin{pmatrix} \n",
        "  1 & 1  \\\\\n",
        "  1 & -1 \\end{pmatrix} * \\begin{pmatrix} 1 \\\\ 0 \\end{pmatrix} = 1/\\sqrt{2} \\begin{pmatrix} 1 \\\\ 1 \\end{pmatrix}$\n",
        "\n",
        "Or, saying in terms of states:\n",
        "\n",
        "$ 1/\\sqrt{2} |0> + 1/\\sqrt{2} |1> $,\n",
        "\n",
        "which means that a measurement will have equal probabilities to become 1 or 0.\n",
        "\n",
        " Now, I will apply CX (CNOT) gate on my system. CNOT gate acts on two qubit at the same time. One of the qubit serves as controll for the second one (target). Mathematicaly speaking, before applying CX gate on qubits I have to \"connect\" them. This \"connection\" can be done through tensor product (outer ptoduct):\n",
        "\n",
        " $ 1/\\sqrt{2}(1|0> + 1|1>)$ x $(1|0> + 0|1>) =$\n",
        " \n",
        " $1/\\sqrt{2} (1|00> + 0|01> + 1|10> + 0|11>)$\n",
        "\n",
        "After the \"connection\" is done, CX gate is ready to act on the state vector of the system of two qubits:\n",
        "\n",
        "$ CX * \\begin{pmatrix} 1/\\sqrt{2} \\\\ 0 \\\\1/\\sqrt{2} \\\\ 0 \\end{pmatrix} = 1/\\sqrt{2} \\begin{pmatrix} \n",
        "  1 & 0 & 0 & 0  \\\\\n",
        "  0 & 1 & 0 & 0 \\\\\n",
        "  0 & 0 & 0 & 1 \\\\\n",
        "  0 & 0 & 1 & 0 \\\\\\end{pmatrix} * \\begin{pmatrix} 1 \\\\ 0 \\\\1 \\\\ 0 \\end{pmatrix} = 1/\\sqrt{2} \\begin{pmatrix} 1 \\\\ 0 \\\\ 0 \\\\ 1 \\end{pmatrix}$\n",
        "\n",
        "That means, after appling Hadamard and CNOT gate on the initial state of two qubit quantum curcuit, the resulting state of the circuit is:\n",
        "\n",
        "$1/\\sqrt{2} (1|00> + 0|01> + 0|10> + 1|11>)$,\n",
        "\n",
        "which means that a measurement will have an equal probability of being |00> or |10>\n",
        "\n",
        "After we have learned what is under the mathematical hood, let me show how it can be easily implemented using QCurcuit class with build-in gate methods.\n",
        "\n",
        "First, I have to create an object of the QCirquit class, passing the size of the  circuit as an argument:\n",
        "```\n",
        "my_circuit = QCircuit(2)\n",
        "```\n",
        "\n",
        "Inside the quntum simulator the class automatically creates two qubits and sets them to the initiale states. Now, I will apply Hadamard gate (H() method). As an argument, I will pass the index of the qubit on which Hadamard gate acts:\n",
        "```\n",
        "my_circuit.H(0)\n",
        "```\n",
        "\n",
        "Following the same logic, I apply CX (CNOT) gate on my circuit passing as arguments control and target qubits respectively:\n",
        "\n",
        "```\n",
        "my_circuit.CX(control= [0], target = 1)\n",
        "```\n",
        "That's it! Now, I can measure the magnitutes of my resulting state simply by calling  ``` get_amplitude() ``` method. The magnitudes are being calculated as a length of the state vector on the Bloch sphere. \n",
        "\n",
        "In order to get the bitstring with its probability values, call  ``` get_bitstring() ``` method of the QCircuit class. Probability of the measurements being calculated as a multiplication of the coefficient before a [ket-vector](https://en.wikipedia.org/wiki/Bra%E2%80%93ket_notation) on its conjugated number.\n",
        "\n",
        "In addition, we can see the final state vector of the circuit calling  ``` get_state_vector() ``` method.\n",
        "\n",
        "\n",
        "\n",
        "Gathering all together, we will need a few lines of code to build the curcuit, apply gates and get the final state of the curcuit.\n",
        "\n",
        " \n",
        "\n",
        " "
      ]
    },
    {
      "cell_type": "code",
      "metadata": {
        "id": "LpuInS6kFvO3",
        "colab_type": "code",
        "outputId": "3e79b971-a57f-486b-8c89-638ce7d1c899",
        "colab": {
          "base_uri": "https://localhost:8080/",
          "height": 208
        }
      },
      "source": [
        "# Create two qubits quantum circuit\n",
        "circuit_size = 2\n",
        "my_circuit = qc.QCircuit(circuit_size)\n",
        "\n",
        "# apply Hadamard gate on the q0\n",
        "my_circuit.H(0)\n",
        "\n",
        "# apply CX gate: q0 - controlled, q1-target\n",
        "my_circuit.CX(control = [0], target = 1)\n",
        "\n",
        "# get amplitude measurement and bitstring sampling\n",
        "print(\"amplitude: \")\n",
        "my_circuit.get_amplitude()\n",
        "print(\"bitstring:\")\n",
        "bitstr, max_str = my_circuit.get_bitstring()\n",
        "for index in range(2 ** circuit_size):\n",
        "  b = np.binary_repr(index, width=circuit_size)\n",
        "  probability = bitstr[index]\n",
        "  print(\"|\" + b + \"> probability \" + str(probability))\n",
        "\n",
        "# state vector\n",
        "state_vector = my_circuit.get_state_vector()\n",
        "print(\"state vector\", state_vector)"
      ],
      "execution_count": 7,
      "outputs": [
        {
          "output_type": "stream",
          "text": [
            "amplitude: \n",
            "|00> amplitude 0.707\n",
            "|01> amplitude 0.0\n",
            "|10> amplitude 0.0\n",
            "|11> amplitude 0.707\n",
            "bitstring:\n",
            "|00> probability 0.5\n",
            "|01> probability 0.0\n",
            "|10> probability 0.0\n",
            "|11> probability 0.5\n",
            "state vector [0.707+0.j 0.   +0.j 0.   +0.j 0.707+0.j]\n"
          ],
          "name": "stdout"
        }
      ]
    },
    {
      "cell_type": "markdown",
      "metadata": {
        "id": "GKqvytvXKaEK",
        "colab_type": "text"
      },
      "source": [
        "We can visualize the quantum cirquit by calling  ``` visualize() ``` method.\n",
        "Consider the lower case *x* as a controlled gate, and the upper case *X* as a target. Controled gates of the same color are the one being connected to each other.\n",
        "\n"
      ]
    },
    {
      "cell_type": "code",
      "metadata": {
        "id": "am_DfUQWKuQS",
        "colab_type": "code",
        "outputId": "18339309-8987-431c-c6af-b5fbf65d1370",
        "colab": {
          "base_uri": "https://localhost:8080/",
          "height": 121
        }
      },
      "source": [
        "my_circuit.visualize()"
      ],
      "execution_count": 8,
      "outputs": [
        {
          "output_type": "stream",
          "text": [
            "    |  ╔═╗   \u001b[31m╔═╗\u001b[0m   \n",
            "q 0 |──║H║───\u001b[31m║x║\u001b[0m───\n",
            "    |  ╚═╝   \u001b[31m╚╦╝\u001b[0m   \n",
            "    |        \u001b[31m╔╩╗\u001b[0m   \n",
            "q 1 |────────\u001b[31m║X║\u001b[0m───\n",
            "    |        \u001b[31m╚═╝\u001b[0m   \n"
          ],
          "name": "stdout"
        }
      ]
    },
    {
      "cell_type": "code",
      "metadata": {
        "id": "yAfhKtpecE2r",
        "colab_type": "code",
        "colab": {}
      },
      "source": [
        ""
      ],
      "execution_count": 0,
      "outputs": []
    }
  ]
}